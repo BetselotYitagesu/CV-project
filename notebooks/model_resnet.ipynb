{
 "cells": [
  {
   "cell_type": "code",
   "execution_count": 1,
   "id": "df25566c",
   "metadata": {},
   "outputs": [
    {
     "name": "stdout",
     "output_type": "stream",
     "text": [
      "✅ Downloaded to: scripts\\helper_functions.py\n"
     ]
    }
   ],
   "source": [
    "import os\n",
    "import requests\n",
    "\n",
    "# GitHub raw URL\n",
    "url = \"https://raw.githubusercontent.com/mrdbourke/pytorch-deep-learning/refs/heads/main/helper_functions.py\"\n",
    "\n",
    "# Folder and filename\n",
    "folder = \"scripts\"\n",
    "filename = \"helper_functions.py\"\n",
    "filepath = os.path.join(folder, filename)\n",
    "\n",
    "# Create folder if it doesn't exist\n",
    "os.makedirs(folder, exist_ok=True)\n",
    "\n",
    "# Download and save the file\n",
    "response = requests.get(url)\n",
    "if response.status_code == 200:\n",
    "    with open(filepath, \"w\", encoding=\"utf-8\") as file:\n",
    "        file.write(response.text)\n",
    "    print(f\"✅ Downloaded to: {filepath}\")\n",
    "else:\n",
    "    print(f\"❌ Failed to download. Status code: {response.status_code}\")"
   ]
  }
 ],
 "metadata": {
  "kernelspec": {
   "display_name": ".venv",
   "language": "python",
   "name": "python3"
  },
  "language_info": {
   "codemirror_mode": {
    "name": "ipython",
    "version": 3
   },
   "file_extension": ".py",
   "mimetype": "text/x-python",
   "name": "python",
   "nbconvert_exporter": "python",
   "pygments_lexer": "ipython3",
   "version": "3.13.3"
  }
 },
 "nbformat": 4,
 "nbformat_minor": 5
}
